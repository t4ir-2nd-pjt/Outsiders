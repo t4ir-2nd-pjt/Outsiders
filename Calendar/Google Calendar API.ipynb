{
 "cells": [
  {
   "cell_type": "code",
   "execution_count": 33,
   "metadata": {},
   "outputs": [
    {
     "ename": "SyntaxError",
     "evalue": "invalid syntax (<ipython-input-33-e079393b7fe8>, line 2)",
     "output_type": "error",
     "traceback": [
      "\u001b[1;36m  File \u001b[1;32m\"<ipython-input-33-e079393b7fe8>\"\u001b[1;36m, line \u001b[1;32m2\u001b[0m\n\u001b[1;33m    pip install datefinder\u001b[0m\n\u001b[1;37m              ^\u001b[0m\n\u001b[1;31mSyntaxError\u001b[0m\u001b[1;31m:\u001b[0m invalid syntax\n"
     ]
    }
   ],
   "source": [
    "# pip install google-api-python-client\n",
    "from apiclient.discovery import build\n",
    "from google_auth_oauthlib.flow import InstalledAppFlow"
   ]
  },
  {
   "cell_type": "code",
   "execution_count": 2,
   "metadata": {},
   "outputs": [],
   "source": [
    "scopes = ['https://www.googleapis.com/auth/calendar']"
   ]
  },
  {
   "cell_type": "code",
   "execution_count": 3,
   "metadata": {},
   "outputs": [],
   "source": [
    "flow = InstalledAppFlow.from_client_secrets_file(\"client_secret.json\", scopes=scopes)"
   ]
  },
  {
   "cell_type": "code",
   "execution_count": 4,
   "metadata": {},
   "outputs": [
    {
     "name": "stdout",
     "output_type": "stream",
     "text": [
      "Please visit this URL to authorize this application: https://accounts.google.com/o/oauth2/auth?response_type=code&client_id=923948686641-m4genmcoa8ddf7ldru1a1m86oogj60lh.apps.googleusercontent.com&redirect_uri=urn%3Aietf%3Awg%3Aoauth%3A2.0%3Aoob&scope=https%3A%2F%2Fwww.googleapis.com%2Fauth%2Fcalendar&state=rALvo6aOutm62o3Mqe8Diq7kbV5pNX&prompt=consent&access_type=offline\n",
      "Enter the authorization code: 4/YgFbDSLKwi5KJ5GWHfD0rSzVh2vn0tvmf6lutgzPqLKx5V5TpzTcKAc\n"
     ]
    }
   ],
   "source": [
    "credentials = flow.run_console()"
   ]
  },
  {
   "cell_type": "code",
   "execution_count": 5,
   "metadata": {},
   "outputs": [],
   "source": [
    "import pickle"
   ]
  },
  {
   "cell_type": "code",
   "execution_count": 6,
   "metadata": {},
   "outputs": [],
   "source": [
    "pickle.dump(credentials, open(\"token.pkl\", \"wb\"))"
   ]
  },
  {
   "cell_type": "code",
   "execution_count": 7,
   "metadata": {},
   "outputs": [],
   "source": [
    "credentials = pickle.load(open(\"token.pkl\", \"rb\"))"
   ]
  },
  {
   "cell_type": "code",
   "execution_count": 8,
   "metadata": {},
   "outputs": [],
   "source": [
    "service = build(\"calendar\", \"v3\", credentials=credentials)"
   ]
  },
  {
   "cell_type": "code",
   "execution_count": 12,
   "metadata": {},
   "outputs": [],
   "source": [
    "result = service.calendarList().list().execute()"
   ]
  },
  {
   "cell_type": "code",
   "execution_count": 13,
   "metadata": {
    "scrolled": true
   },
   "outputs": [
    {
     "data": {
      "text/plain": [
       "{'kind': 'calendar#calendarList',\n",
       " 'etag': '\"p32gb9mf4j39e40g\"',\n",
       " 'nextSyncToken': 'CKC02eSY0uICEhdtdWx0aWp1YW4xNDAzQGdtYWlsLmNvbQ==',\n",
       " 'items': [{'kind': 'calendar#calendarListEntry',\n",
       "   'etag': '\"1559732617108000\"',\n",
       "   'id': 'multijuan1403@gmail.com',\n",
       "   'summary': 'multijuan1403@gmail.com',\n",
       "   'timeZone': 'UTC',\n",
       "   'colorId': '14',\n",
       "   'backgroundColor': '#9fe1e7',\n",
       "   'foregroundColor': '#000000',\n",
       "   'selected': True,\n",
       "   'accessRole': 'owner',\n",
       "   'defaultReminders': [{'method': 'popup', 'minutes': 30}],\n",
       "   'notificationSettings': {'notifications': [{'type': 'eventCreation',\n",
       "      'method': 'email'},\n",
       "     {'type': 'eventChange', 'method': 'email'},\n",
       "     {'type': 'eventCancellation', 'method': 'email'},\n",
       "     {'type': 'eventResponse', 'method': 'email'}]},\n",
       "   'primary': True,\n",
       "   'conferenceProperties': {'allowedConferenceSolutionTypes': ['eventHangout']}}]}"
      ]
     },
     "execution_count": 13,
     "metadata": {},
     "output_type": "execute_result"
    }
   ],
   "source": [
    "result"
   ]
  },
  {
   "cell_type": "code",
   "execution_count": 18,
   "metadata": {},
   "outputs": [],
   "source": [
    "calendar_id = result['items'][0]['id']"
   ]
  },
  {
   "cell_type": "code",
   "execution_count": 22,
   "metadata": {},
   "outputs": [],
   "source": [
    "result = service.events().list(calendarId=calendar_id, timeZone='Asia/Seoul').execute()"
   ]
  },
  {
   "cell_type": "code",
   "execution_count": 23,
   "metadata": {},
   "outputs": [
    {
     "data": {
      "text/plain": [
       "{'kind': 'calendar#event',\n",
       " 'etag': '\"3119814120070000\"',\n",
       " 'id': '6uhhtaf1p4kl0m1n181l27np0j',\n",
       " 'status': 'confirmed',\n",
       " 'htmlLink': 'https://www.google.com/calendar/event?eid=NnVoaHRhZjFwNGtsMG0xbjE4MWwyN25wMGogbXVsdGlqdWFuMTQwM0Bt&ctz=Asia/Seoul',\n",
       " 'created': '2019-06-07T11:30:59.000Z',\n",
       " 'updated': '2019-06-07T11:31:00.035Z',\n",
       " 'summary': 'climbing',\n",
       " 'creator': {'email': 'multijuan1403@gmail.com', 'self': True},\n",
       " 'organizer': {'email': 'multijuan1403@gmail.com', 'self': True},\n",
       " 'start': {'dateTime': '2019-06-08T05:30:00+09:00'},\n",
       " 'end': {'dateTime': '2019-06-08T20:00:00+09:00'},\n",
       " 'iCalUID': '6uhhtaf1p4kl0m1n181l27np0j@google.com',\n",
       " 'sequence': 0,\n",
       " 'reminders': {'useDefault': True}}"
      ]
     },
     "execution_count": 23,
     "metadata": {},
     "output_type": "execute_result"
    }
   ],
   "source": [
    "result['items'][0]"
   ]
  },
  {
   "cell_type": "code",
   "execution_count": 24,
   "metadata": {},
   "outputs": [],
   "source": [
    "from datetime import datetime, timedelta"
   ]
  },
  {
   "cell_type": "code",
   "execution_count": 27,
   "metadata": {},
   "outputs": [],
   "source": [
    "start_time = datetime(2019, 6, 14, 9, 0, 0)\n",
    "end_time = start_time + timedelta(hours=9)\n",
    "timezone = 'Asia/Seoul'"
   ]
  },
  {
   "cell_type": "code",
   "execution_count": 28,
   "metadata": {},
   "outputs": [],
   "source": [
    "event = {\n",
    "  'summary': '2nd Ideathon',\n",
    "  'location': 'MultiCampus',\n",
    "  'description': 'T4IR PJT 2nd IDEATHON',\n",
    "  'start': {\n",
    "    'dateTime': start_time.strftime('%Y-%m-%dT%H:%M:%S'),\n",
    "    'timeZone': timezone,\n",
    "  },\n",
    "  'end': {\n",
    "    'dateTime': end_time.strftime('%Y-%m-%dT%H:%M:%S'),\n",
    "    'timeZone': timezone,\n",
    "  },\n",
    "#   'attendees': [\n",
    "#     {'email': 'lpage@example.com'},\n",
    "#     {'email': 'sbrin@example.com'},\n",
    "#   ],\n",
    "  'reminders': {\n",
    "    'useDefault': False,\n",
    "    'overrides': [\n",
    "      {'method': 'email', 'minutes': 24 * 60},\n",
    "      {'method': 'popup', 'minutes': 10},\n",
    "    ],\n",
    "  },\n",
    "}"
   ]
  },
  {
   "cell_type": "code",
   "execution_count": 29,
   "metadata": {},
   "outputs": [
    {
     "data": {
      "text/plain": [
       "{'kind': 'calendar#event',\n",
       " 'etag': '\"3119815816774000\"',\n",
       " 'id': 'j51bi73amn789r638emgoqmkic',\n",
       " 'status': 'confirmed',\n",
       " 'htmlLink': 'https://www.google.com/calendar/event?eid=ajUxYmk3M2Ftbjc4OXI2MzhlbWdvcW1raWMgbXVsdGlqdWFuMTQwM0Bt',\n",
       " 'created': '2019-06-07T11:45:08.000Z',\n",
       " 'updated': '2019-06-07T11:45:08.447Z',\n",
       " 'summary': '2nd Ideathon',\n",
       " 'description': 'T4IR PJT 2nd IDEATHON',\n",
       " 'location': 'MultiCampus',\n",
       " 'creator': {'email': 'multijuan1403@gmail.com', 'self': True},\n",
       " 'organizer': {'email': 'multijuan1403@gmail.com', 'self': True},\n",
       " 'start': {'dateTime': '2019-06-14T09:00:00+09:00', 'timeZone': 'Asia/Seoul'},\n",
       " 'end': {'dateTime': '2019-06-14T18:00:00+09:00', 'timeZone': 'Asia/Seoul'},\n",
       " 'iCalUID': 'j51bi73amn789r638emgoqmkic@google.com',\n",
       " 'sequence': 0,\n",
       " 'reminders': {'useDefault': False,\n",
       "  'overrides': [{'method': 'popup', 'minutes': 10},\n",
       "   {'method': 'email', 'minutes': 1440}]}}"
      ]
     },
     "execution_count": 29,
     "metadata": {},
     "output_type": "execute_result"
    }
   ],
   "source": [
    "service.events().insert(calendarId=calendar_id, body=event).execute()"
   ]
  },
  {
   "cell_type": "code",
   "execution_count": 38,
   "metadata": {},
   "outputs": [
    {
     "name": "stdout",
     "output_type": "stream",
     "text": [
      "Collecting datefinder\n",
      "  Downloading https://files.pythonhosted.org/packages/16/2b/af8efaee30c0ba4238cb4d0645a07100d33d11d20a8783c443ed8b813eb9/datefinder-0.7.0-py2.py3-none-any.whl\n",
      "Collecting pytz (from datefinder)\n",
      "  Using cached https://files.pythonhosted.org/packages/3d/73/fe30c2daaaa0713420d0382b16fbb761409f532c56bdcc514bf7b6262bb6/pytz-2019.1-py2.py3-none-any.whl\n",
      "Requirement already satisfied: python-dateutil>=2.4.2 in c:\\users\\multicampus\\appdata\\local\\programs\\python\\python37\\lib\\site-packages (from datefinder) (2.8.0)\n",
      "Collecting regex>=2017.02.08 (from datefinder)\n",
      "  Downloading https://files.pythonhosted.org/packages/cb/37/941cbd626d4e114af3c35cd1e6e4291e3dbfb61c66dd2d1fa6a8d9319809/regex-2019.06.05-cp37-none-win_amd64.whl (322kB)\n",
      "Requirement already satisfied: six>=1.5 in c:\\users\\multicampus\\appdata\\local\\programs\\python\\python37\\lib\\site-packages (from python-dateutil>=2.4.2->datefinder) (1.12.0)\n",
      "Installing collected packages: pytz, regex, datefinder\n",
      "Successfully installed datefinder-0.7.0 pytz-2019.1 regex-2019.6.5\n",
      "Note: you may need to restart the kernel to use updated packages.\n"
     ]
    }
   ],
   "source": [
    "pip install datefinder"
   ]
  },
  {
   "cell_type": "code",
   "execution_count": 39,
   "metadata": {},
   "outputs": [],
   "source": [
    "import datefinder"
   ]
  },
  {
   "cell_type": "code",
   "execution_count": 46,
   "metadata": {},
   "outputs": [],
   "source": [
    "matches = datefinder.find_dates(\"13 june 9 AM\")"
   ]
  },
  {
   "cell_type": "code",
   "execution_count": 47,
   "metadata": {},
   "outputs": [
    {
     "data": {
      "text/plain": [
       "[datetime.datetime(2019, 6, 13, 9, 0)]"
      ]
     },
     "execution_count": 47,
     "metadata": {},
     "output_type": "execute_result"
    }
   ],
   "source": [
    "list(matches)"
   ]
  },
  {
   "cell_type": "code",
   "execution_count": 51,
   "metadata": {},
   "outputs": [],
   "source": [
    "def create_event(start_time_str, summary, duration=3, description=None, location=None):\n",
    "    matches = list(datefinder.find_dates(start_time_str))\n",
    "    if len(matches):\n",
    "        start_time = matches[0]\n",
    "        end_time = start_time + timedelta(hours=duration)\n",
    "        \n",
    "    event = {\n",
    "      'summary': summary,\n",
    "      'location': location,\n",
    "      'description': description,\n",
    "      'start': {\n",
    "        'dateTime': start_time.strftime('%Y-%m-%dT%H:%M:%S'),\n",
    "        'timeZone': 'Asia/Seoul',\n",
    "      },\n",
    "      'end': {\n",
    "        'dateTime': end_time.strftime('%Y-%m-%dT%H:%M:%S'),\n",
    "        'timeZone': 'Asia/Seoul',\n",
    "      },\n",
    "    #   'attendees': [\n",
    "    #     {'email': 'lpage@example.com'},\n",
    "    #     {'email': 'sbrin@example.com'},\n",
    "    #   ],\n",
    "      'reminders': {\n",
    "        'useDefault': False,\n",
    "        'overrides': [\n",
    "          {'method': 'email', 'minutes': 24 * 60},\n",
    "          {'method': 'popup', 'minutes': 10},\n",
    "        ],\n",
    "      },\n",
    "    }\n",
    "    return service.events().insert(calendarId='primary', body=event).execute()"
   ]
  },
  {
   "cell_type": "code",
   "execution_count": 52,
   "metadata": {},
   "outputs": [
    {
     "data": {
      "text/plain": [
       "{'kind': 'calendar#event',\n",
       " 'etag': '\"3119818425494000\"',\n",
       " 'id': 'h87lpfdiohdmvt5r1ih7kb771c',\n",
       " 'status': 'confirmed',\n",
       " 'htmlLink': 'https://www.google.com/calendar/event?eid=aDg3bHBmZGlvaGRtdnQ1cjFpaDdrYjc3MWMgbXVsdGlqdWFuMTQwM0Bt',\n",
       " 'created': '2019-06-07T12:06:52.000Z',\n",
       " 'updated': '2019-06-07T12:06:52.788Z',\n",
       " 'summary': 'Idea Submission',\n",
       " 'description': 'T4IR PJT 2nd IDEATHON',\n",
       " 'location': 'MultiCampus',\n",
       " 'creator': {'email': 'multijuan1403@gmail.com', 'self': True},\n",
       " 'organizer': {'email': 'multijuan1403@gmail.com', 'self': True},\n",
       " 'start': {'dateTime': '2019-06-13T09:00:00+09:00', 'timeZone': 'Asia/Seoul'},\n",
       " 'end': {'dateTime': '2019-06-13T12:00:00+09:00', 'timeZone': 'Asia/Seoul'},\n",
       " 'iCalUID': 'h87lpfdiohdmvt5r1ih7kb771c@google.com',\n",
       " 'sequence': 0,\n",
       " 'reminders': {'useDefault': False,\n",
       "  'overrides': [{'method': 'popup', 'minutes': 10},\n",
       "   {'method': 'email', 'minutes': 1440}]}}"
      ]
     },
     "execution_count": 52,
     "metadata": {},
     "output_type": "execute_result"
    }
   ],
   "source": [
    "create_event(\"13 june 9 AM\", \"Idea Submission\")"
   ]
  },
  {
   "cell_type": "code",
   "execution_count": null,
   "metadata": {},
   "outputs": [],
   "source": []
  }
 ],
 "metadata": {
  "kernelspec": {
   "display_name": "Python 3",
   "language": "python",
   "name": "python3"
  },
  "language_info": {
   "codemirror_mode": {
    "name": "ipython",
    "version": 3
   },
   "file_extension": ".py",
   "mimetype": "text/x-python",
   "name": "python",
   "nbconvert_exporter": "python",
   "pygments_lexer": "ipython3",
   "version": "3.7.3"
  }
 },
 "nbformat": 4,
 "nbformat_minor": 2
}
